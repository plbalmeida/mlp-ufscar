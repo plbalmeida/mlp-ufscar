{
 "cells": [
  {
   "cell_type": "markdown",
   "metadata": {},
   "source": [
    "# IML4.1 Construção de mecanismos de captação de dados\n",
    "\n",
    "**Título da Atividade**:  Construção de mecanismos de captação de dados\n",
    "\n",
    "**Orientações**: Elabore um mecanismo de extração de dados capaz de obter os dados de uma página do IMDB. Por exemplo, crie um mecanismo computacional capaz de realizar Web Scrapping da página do filme Interestelar no IMDB (ou seja, https://www.imdb.com/title/tt0816692/) e armazene todos os dados obtidos em um arquivo do tipo \".csv\". Sendo que, é importante que a solução proposta siga as boas práticas de programação, ou seja tenha Design Patterns, não tenha importações que não estão sendo utilizadas, o código esteja documentado, etc.\n",
    "\n",
    "**Entrega**: Ao término da atividade, o trabalho deve ser submetido no ambiente de ensino como um arquivo python ou jupyter notebook (ou seja, arquivos com a extensão .py ou ipynb), no qual deve conter todas as etapas para a captação dos dados necessários. Além disso, os códigos gerados devem seguir os princípios de boas práticas de programação."
   ]
  },
  {
   "cell_type": "markdown",
   "metadata": {},
   "source": [
    "**Solução**: Foi criado um mecanismo de extração de dados com web scraping para a páginas do filme \"Interestelar\", mas também incluí as URLs dos filmes \"Ex-Machina\" e \"Aniquilação\" do IMDB, foram utilizadas as bibliotecas `requests` e `BeautifulSoup`, que são comuns para web scraping. O código seguirá as boas práticas de programação, incluindo documentação e evitando importações desnecessárias."
   ]
  },
  {
   "cell_type": "code",
   "execution_count": 32,
   "metadata": {},
   "outputs": [],
   "source": [
    "import requests\n",
    "from bs4 import BeautifulSoup\n",
    "import csv\n",
    "import json\n",
    "\n",
    "\n",
    "def scrape_imdb(url):\n",
    "    \"\"\"\n",
    "    Função para realizar web scraping na página do IMDB de um filme específico.\n",
    "    \n",
    "    Args:\n",
    "    url (str): URL da página do IMDB do filme.\n",
    "    \n",
    "    Returns:\n",
    "    dict: Dicionário contendo os dados extraídos do filme.\n",
    "    \"\"\"\n",
    "    headers = {\n",
    "        'User-Agent': 'Mozilla/5.0 (Windows NT 10.0; Win64; x64) AppleWebKit/537.36 (KHTML, like Gecko) Chrome/58.0.3029.110 Safari/537.3'\n",
    "    }\n",
    "\n",
    "    response = requests.get(url, headers=headers)\n",
    "    soup = BeautifulSoup(response.content, 'html.parser')\n",
    "\n",
    "    full_title = soup.find('meta', property='og:title')['content']\n",
    "    title = full_title.split('(')[0].strip()\n",
    "\n",
    "    description = soup.find('meta', attrs={'name': 'description'})['content']\n",
    "\n",
    "    rating = full_title.split('⭐')[1].split('|')[0].strip() if '⭐' in full_title else 'N/A'\n",
    "\n",
    "    genre_script = soup.select_one('script[type=\"application/ld+json\"]').contents[0]\n",
    "    genre_data = json.loads(genre_script)\n",
    "    genre_list = genre_data.get('genre', [])\n",
    "    genre = ', '.join(genre_list) if isinstance(genre_list, list) else genre_list\n",
    "    \n",
    "    return {\n",
    "        'Title': title,\n",
    "        'Description': description,\n",
    "        'Rating': rating,\n",
    "        'Genre': genre\n",
    "    }\n",
    "\n",
    "\n",
    "def save_to_csv(data, filename):\n",
    "    \"\"\"\n",
    "    Função para salvar dados em um arquivo CSV.\n",
    "\n",
    "    Args:\n",
    "    data (list): Lista de dicionários com os dados a serem salvos.\n",
    "    filename (str): Nome do arquivo CSV.\n",
    "    \"\"\"\n",
    "    with open(filename, 'w', newline='', encoding='utf-8') as file:\n",
    "        writer = csv.DictWriter(file, fieldnames=data[0].keys())\n",
    "        writer.writeheader()\n",
    "        for movie in data:\n",
    "            writer.writerow(movie)"
   ]
  },
  {
   "cell_type": "code",
   "execution_count": 33,
   "metadata": {},
   "outputs": [],
   "source": [
    "# Lista de URLs\n",
    "urls = [\n",
    "    'https://www.imdb.com/title/tt0816692/',\n",
    "    'https://www.imdb.com/title/tt0470752/',\n",
    "    'https://www.imdb.com/title/tt2798920/'\n",
    "]\n",
    "\n",
    "# Lista para armazenar os dados dos filmes\n",
    "movies_data = []\n",
    "\n",
    "# Percorrendo as URLs e coletando os dados\n",
    "for url in urls:\n",
    "    movie_data = scrape_imdb(url)\n",
    "    movies_data.append(movie_data)\n",
    "\n",
    "# Salvando os dados em um arquivo CSV\n",
    "save_to_csv(movies_data, 'imdb_data.csv')\n"
   ]
  }
 ],
 "metadata": {
  "kernelspec": {
   "display_name": "Python 3",
   "language": "python",
   "name": "python3"
  },
  "language_info": {
   "codemirror_mode": {
    "name": "ipython",
    "version": 3
   },
   "file_extension": ".py",
   "mimetype": "text/x-python",
   "name": "python",
   "nbconvert_exporter": "python",
   "pygments_lexer": "ipython3",
   "version": "3.10.12"
  }
 },
 "nbformat": 4,
 "nbformat_minor": 2
}
