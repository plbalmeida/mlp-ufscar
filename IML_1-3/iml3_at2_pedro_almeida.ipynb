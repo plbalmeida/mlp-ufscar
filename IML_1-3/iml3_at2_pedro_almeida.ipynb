{
  "nbformat": 4,
  "nbformat_minor": 0,
  "metadata": {
    "colab": {
      "provenance": []
    },
    "kernelspec": {
      "name": "python3",
      "display_name": "Python 3"
    },
    "language_info": {
      "name": "python"
    }
  },
  "cells": [
    {
      "cell_type": "markdown",
      "source": [
        "# Importando os Dados\n",
        "Importando dados do Google Drive para o ambiente do Colab.\n",
        "\n",
        "https://www.kaggle.com/datasets/olistbr/brazilian-ecommerce?select=olist_order_reviews_dataset.csv"
      ],
      "metadata": {
        "id": "bgFwYn6adlmO"
      }
    },
    {
      "cell_type": "code",
      "execution_count": 1,
      "metadata": {
        "colab": {
          "base_uri": "https://localhost:8080/",
          "height": 223
        },
        "id": "Qx2Iu_qTdUWn",
        "outputId": "31742436-5cc5-42b5-9514-5faa59186343"
      },
      "outputs": [
        {
          "output_type": "stream",
          "name": "stdout",
          "text": [
            "Drive already mounted at /content/gdrive; to attempt to forcibly remount, call drive.mount(\"/content/gdrive\", force_remount=True).\n"
          ]
        },
        {
          "output_type": "execute_result",
          "data": {
            "text/plain": [
              "                              review_comment_message  review_score\n",
              "0                                                NaN             4\n",
              "1                                                NaN             5\n",
              "2                                                NaN             5\n",
              "3              Recebi bem antes do prazo estipulado.             5\n",
              "4  Parabéns lojas lannister adorei comprar pela I...             5"
            ],
            "text/html": [
              "\n",
              "  <div id=\"df-71c5cc8c-d804-47f7-ba4d-d71111552292\" class=\"colab-df-container\">\n",
              "    <div>\n",
              "<style scoped>\n",
              "    .dataframe tbody tr th:only-of-type {\n",
              "        vertical-align: middle;\n",
              "    }\n",
              "\n",
              "    .dataframe tbody tr th {\n",
              "        vertical-align: top;\n",
              "    }\n",
              "\n",
              "    .dataframe thead th {\n",
              "        text-align: right;\n",
              "    }\n",
              "</style>\n",
              "<table border=\"1\" class=\"dataframe\">\n",
              "  <thead>\n",
              "    <tr style=\"text-align: right;\">\n",
              "      <th></th>\n",
              "      <th>review_comment_message</th>\n",
              "      <th>review_score</th>\n",
              "    </tr>\n",
              "  </thead>\n",
              "  <tbody>\n",
              "    <tr>\n",
              "      <th>0</th>\n",
              "      <td>NaN</td>\n",
              "      <td>4</td>\n",
              "    </tr>\n",
              "    <tr>\n",
              "      <th>1</th>\n",
              "      <td>NaN</td>\n",
              "      <td>5</td>\n",
              "    </tr>\n",
              "    <tr>\n",
              "      <th>2</th>\n",
              "      <td>NaN</td>\n",
              "      <td>5</td>\n",
              "    </tr>\n",
              "    <tr>\n",
              "      <th>3</th>\n",
              "      <td>Recebi bem antes do prazo estipulado.</td>\n",
              "      <td>5</td>\n",
              "    </tr>\n",
              "    <tr>\n",
              "      <th>4</th>\n",
              "      <td>Parabéns lojas lannister adorei comprar pela I...</td>\n",
              "      <td>5</td>\n",
              "    </tr>\n",
              "  </tbody>\n",
              "</table>\n",
              "</div>\n",
              "    <div class=\"colab-df-buttons\">\n",
              "\n",
              "  <div class=\"colab-df-container\">\n",
              "    <button class=\"colab-df-convert\" onclick=\"convertToInteractive('df-71c5cc8c-d804-47f7-ba4d-d71111552292')\"\n",
              "            title=\"Convert this dataframe to an interactive table.\"\n",
              "            style=\"display:none;\">\n",
              "\n",
              "  <svg xmlns=\"http://www.w3.org/2000/svg\" height=\"24px\" viewBox=\"0 -960 960 960\">\n",
              "    <path d=\"M120-120v-720h720v720H120Zm60-500h600v-160H180v160Zm220 220h160v-160H400v160Zm0 220h160v-160H400v160ZM180-400h160v-160H180v160Zm440 0h160v-160H620v160ZM180-180h160v-160H180v160Zm440 0h160v-160H620v160Z\"/>\n",
              "  </svg>\n",
              "    </button>\n",
              "\n",
              "  <style>\n",
              "    .colab-df-container {\n",
              "      display:flex;\n",
              "      gap: 12px;\n",
              "    }\n",
              "\n",
              "    .colab-df-convert {\n",
              "      background-color: #E8F0FE;\n",
              "      border: none;\n",
              "      border-radius: 50%;\n",
              "      cursor: pointer;\n",
              "      display: none;\n",
              "      fill: #1967D2;\n",
              "      height: 32px;\n",
              "      padding: 0 0 0 0;\n",
              "      width: 32px;\n",
              "    }\n",
              "\n",
              "    .colab-df-convert:hover {\n",
              "      background-color: #E2EBFA;\n",
              "      box-shadow: 0px 1px 2px rgba(60, 64, 67, 0.3), 0px 1px 3px 1px rgba(60, 64, 67, 0.15);\n",
              "      fill: #174EA6;\n",
              "    }\n",
              "\n",
              "    .colab-df-buttons div {\n",
              "      margin-bottom: 4px;\n",
              "    }\n",
              "\n",
              "    [theme=dark] .colab-df-convert {\n",
              "      background-color: #3B4455;\n",
              "      fill: #D2E3FC;\n",
              "    }\n",
              "\n",
              "    [theme=dark] .colab-df-convert:hover {\n",
              "      background-color: #434B5C;\n",
              "      box-shadow: 0px 1px 3px 1px rgba(0, 0, 0, 0.15);\n",
              "      filter: drop-shadow(0px 1px 2px rgba(0, 0, 0, 0.3));\n",
              "      fill: #FFFFFF;\n",
              "    }\n",
              "  </style>\n",
              "\n",
              "    <script>\n",
              "      const buttonEl =\n",
              "        document.querySelector('#df-71c5cc8c-d804-47f7-ba4d-d71111552292 button.colab-df-convert');\n",
              "      buttonEl.style.display =\n",
              "        google.colab.kernel.accessAllowed ? 'block' : 'none';\n",
              "\n",
              "      async function convertToInteractive(key) {\n",
              "        const element = document.querySelector('#df-71c5cc8c-d804-47f7-ba4d-d71111552292');\n",
              "        const dataTable =\n",
              "          await google.colab.kernel.invokeFunction('convertToInteractive',\n",
              "                                                    [key], {});\n",
              "        if (!dataTable) return;\n",
              "\n",
              "        const docLinkHtml = 'Like what you see? Visit the ' +\n",
              "          '<a target=\"_blank\" href=https://colab.research.google.com/notebooks/data_table.ipynb>data table notebook</a>'\n",
              "          + ' to learn more about interactive tables.';\n",
              "        element.innerHTML = '';\n",
              "        dataTable['output_type'] = 'display_data';\n",
              "        await google.colab.output.renderOutput(dataTable, element);\n",
              "        const docLink = document.createElement('div');\n",
              "        docLink.innerHTML = docLinkHtml;\n",
              "        element.appendChild(docLink);\n",
              "      }\n",
              "    </script>\n",
              "  </div>\n",
              "\n",
              "\n",
              "<div id=\"df-52107fc1-a8a7-4a89-af88-80fd2425e8b8\">\n",
              "  <button class=\"colab-df-quickchart\" onclick=\"quickchart('df-52107fc1-a8a7-4a89-af88-80fd2425e8b8')\"\n",
              "            title=\"Suggest charts\"\n",
              "            style=\"display:none;\">\n",
              "\n",
              "<svg xmlns=\"http://www.w3.org/2000/svg\" height=\"24px\"viewBox=\"0 0 24 24\"\n",
              "     width=\"24px\">\n",
              "    <g>\n",
              "        <path d=\"M19 3H5c-1.1 0-2 .9-2 2v14c0 1.1.9 2 2 2h14c1.1 0 2-.9 2-2V5c0-1.1-.9-2-2-2zM9 17H7v-7h2v7zm4 0h-2V7h2v10zm4 0h-2v-4h2v4z\"/>\n",
              "    </g>\n",
              "</svg>\n",
              "  </button>\n",
              "\n",
              "<style>\n",
              "  .colab-df-quickchart {\n",
              "      --bg-color: #E8F0FE;\n",
              "      --fill-color: #1967D2;\n",
              "      --hover-bg-color: #E2EBFA;\n",
              "      --hover-fill-color: #174EA6;\n",
              "      --disabled-fill-color: #AAA;\n",
              "      --disabled-bg-color: #DDD;\n",
              "  }\n",
              "\n",
              "  [theme=dark] .colab-df-quickchart {\n",
              "      --bg-color: #3B4455;\n",
              "      --fill-color: #D2E3FC;\n",
              "      --hover-bg-color: #434B5C;\n",
              "      --hover-fill-color: #FFFFFF;\n",
              "      --disabled-bg-color: #3B4455;\n",
              "      --disabled-fill-color: #666;\n",
              "  }\n",
              "\n",
              "  .colab-df-quickchart {\n",
              "    background-color: var(--bg-color);\n",
              "    border: none;\n",
              "    border-radius: 50%;\n",
              "    cursor: pointer;\n",
              "    display: none;\n",
              "    fill: var(--fill-color);\n",
              "    height: 32px;\n",
              "    padding: 0;\n",
              "    width: 32px;\n",
              "  }\n",
              "\n",
              "  .colab-df-quickchart:hover {\n",
              "    background-color: var(--hover-bg-color);\n",
              "    box-shadow: 0 1px 2px rgba(60, 64, 67, 0.3), 0 1px 3px 1px rgba(60, 64, 67, 0.15);\n",
              "    fill: var(--button-hover-fill-color);\n",
              "  }\n",
              "\n",
              "  .colab-df-quickchart-complete:disabled,\n",
              "  .colab-df-quickchart-complete:disabled:hover {\n",
              "    background-color: var(--disabled-bg-color);\n",
              "    fill: var(--disabled-fill-color);\n",
              "    box-shadow: none;\n",
              "  }\n",
              "\n",
              "  .colab-df-spinner {\n",
              "    border: 2px solid var(--fill-color);\n",
              "    border-color: transparent;\n",
              "    border-bottom-color: var(--fill-color);\n",
              "    animation:\n",
              "      spin 1s steps(1) infinite;\n",
              "  }\n",
              "\n",
              "  @keyframes spin {\n",
              "    0% {\n",
              "      border-color: transparent;\n",
              "      border-bottom-color: var(--fill-color);\n",
              "      border-left-color: var(--fill-color);\n",
              "    }\n",
              "    20% {\n",
              "      border-color: transparent;\n",
              "      border-left-color: var(--fill-color);\n",
              "      border-top-color: var(--fill-color);\n",
              "    }\n",
              "    30% {\n",
              "      border-color: transparent;\n",
              "      border-left-color: var(--fill-color);\n",
              "      border-top-color: var(--fill-color);\n",
              "      border-right-color: var(--fill-color);\n",
              "    }\n",
              "    40% {\n",
              "      border-color: transparent;\n",
              "      border-right-color: var(--fill-color);\n",
              "      border-top-color: var(--fill-color);\n",
              "    }\n",
              "    60% {\n",
              "      border-color: transparent;\n",
              "      border-right-color: var(--fill-color);\n",
              "    }\n",
              "    80% {\n",
              "      border-color: transparent;\n",
              "      border-right-color: var(--fill-color);\n",
              "      border-bottom-color: var(--fill-color);\n",
              "    }\n",
              "    90% {\n",
              "      border-color: transparent;\n",
              "      border-bottom-color: var(--fill-color);\n",
              "    }\n",
              "  }\n",
              "</style>\n",
              "\n",
              "  <script>\n",
              "    async function quickchart(key) {\n",
              "      const quickchartButtonEl =\n",
              "        document.querySelector('#' + key + ' button');\n",
              "      quickchartButtonEl.disabled = true;  // To prevent multiple clicks.\n",
              "      quickchartButtonEl.classList.add('colab-df-spinner');\n",
              "      try {\n",
              "        const charts = await google.colab.kernel.invokeFunction(\n",
              "            'suggestCharts', [key], {});\n",
              "      } catch (error) {\n",
              "        console.error('Error during call to suggestCharts:', error);\n",
              "      }\n",
              "      quickchartButtonEl.classList.remove('colab-df-spinner');\n",
              "      quickchartButtonEl.classList.add('colab-df-quickchart-complete');\n",
              "    }\n",
              "    (() => {\n",
              "      let quickchartButtonEl =\n",
              "        document.querySelector('#df-52107fc1-a8a7-4a89-af88-80fd2425e8b8 button');\n",
              "      quickchartButtonEl.style.display =\n",
              "        google.colab.kernel.accessAllowed ? 'block' : 'none';\n",
              "    })();\n",
              "  </script>\n",
              "</div>\n",
              "    </div>\n",
              "  </div>\n"
            ]
          },
          "metadata": {},
          "execution_count": 1
        }
      ],
      "source": [
        "# Montando o Google Drive no Colab\n",
        "from google.colab import drive\n",
        "drive.mount('/content/gdrive')\n",
        "\n",
        "# Definindo o caminho para o diretório dos dados\n",
        "data_dir = '/content/gdrive/My Drive/Colab Notebooks/sentiment/data/olist_order_reviews_dataset.csv'\n",
        "\n",
        "import pandas as pd\n",
        "\n",
        "# Carregando o dataset\n",
        "df = pd.read_csv(data_dir)\n",
        "\n",
        "# Exibindo as primeiras linhas do dataset para entender sua estrutura\n",
        "df = df[['review_comment_message', 'review_score']]\n",
        "df.head()\n"
      ]
    },
    {
      "cell_type": "markdown",
      "source": [
        "# Pré-processamento de Dados\n",
        "\n",
        "Primeiro, os dados serão preparados para o modelo. Isso inclui lidar com valores nulos, tokenização e padronização do tamanho dos textos.\n",
        "\n",
        "### Limpeza de Dados"
      ],
      "metadata": {
        "id": "J2_TLO0CnO-N"
      }
    },
    {
      "cell_type": "code",
      "source": [
        "from keras.preprocessing.text import Tokenizer\n",
        "from keras.preprocessing.sequence import pad_sequences\n",
        "\n",
        "# Preencha valores NaN com uma string vazia\n",
        "df['review_comment_message'].fillna('', inplace=True)"
      ],
      "metadata": {
        "id": "Ixnu4JuQnh4_"
      },
      "execution_count": 2,
      "outputs": []
    },
    {
      "cell_type": "markdown",
      "source": [
        "### Tokenização\n",
        "\n",
        "Conversão dos textos em sequências de números, onde cada número representa uma palavra no dicionário."
      ],
      "metadata": {
        "id": "U16vHzuFn1n0"
      }
    },
    {
      "cell_type": "code",
      "source": [
        "tokenizer = Tokenizer()\n",
        "tokenizer.fit_on_texts(df['review_comment_message'])\n",
        "sequences = tokenizer.texts_to_sequences(df['review_comment_message'])\n"
      ],
      "metadata": {
        "id": "blEDROjPn4kn"
      },
      "execution_count": 3,
      "outputs": []
    },
    {
      "cell_type": "markdown",
      "source": [
        "### Padronização\n",
        "\n",
        "Padronização do comprimento das sequências para que todas tenham o mesmo tamanho."
      ],
      "metadata": {
        "id": "XUkZgGdKoE1C"
      }
    },
    {
      "cell_type": "code",
      "source": [
        "max_length = max([len(seq) for seq in sequences])\n",
        "X = pad_sequences(sequences, maxlen=max_length, padding='post')\n"
      ],
      "metadata": {
        "id": "_qo4SHvKoLw0"
      },
      "execution_count": 4,
      "outputs": []
    },
    {
      "cell_type": "markdown",
      "source": [
        "# Preparação do Target\n",
        "\n",
        "Transformação dos scores de revisão em categorias de sentimentos. Por exemplo, scores 4 e 5 como positivos, 3 como neutros e 1 e 2 como negativos."
      ],
      "metadata": {
        "id": "KkuMTwgvoTiV"
      }
    },
    {
      "cell_type": "code",
      "source": [
        "def categorize(score):\n",
        "    if score < 3:\n",
        "        return 0  # Negativo\n",
        "    elif score == 3:\n",
        "        return 1  # Neutro\n",
        "    else:\n",
        "        return 2  # Positivo\n",
        "\n",
        "y = df['review_score'].apply(categorize)\n"
      ],
      "metadata": {
        "id": "oJ6sMZk1oZMO"
      },
      "execution_count": 5,
      "outputs": []
    },
    {
      "cell_type": "markdown",
      "source": [
        "# Construção do Modelo\n",
        "\n",
        "Utilização do Keras para construir o modelo de RNN do tipo LSTM."
      ],
      "metadata": {
        "id": "DPueZNp-oepu"
      }
    },
    {
      "cell_type": "code",
      "source": [
        "from keras.models import Sequential\n",
        "from keras.layers import Embedding, LSTM, Dense\n",
        "\n",
        "vocab_size = len(tokenizer.word_index) + 1  # Tamanho do vocabulário\n",
        "\n",
        "model = Sequential()\n",
        "model.add(Embedding(vocab_size, 100, input_length=max_length))\n",
        "model.add(LSTM(50, dropout=0.2, recurrent_dropout=0.2))\n",
        "model.add(Dense(3, activation='softmax'))  # 3 classes: Negativo, Neutro, Positivo\n",
        "\n",
        "model.compile(loss='sparse_categorical_crossentropy', optimizer='adam', metrics=['accuracy'])\n"
      ],
      "metadata": {
        "id": "0tzpnYZYonkX"
      },
      "execution_count": 6,
      "outputs": []
    },
    {
      "cell_type": "markdown",
      "source": [
        "# Treinamento do Modelo\n",
        "\n",
        "Divisão dos dados em conjuntos de treinamento e teste."
      ],
      "metadata": {
        "id": "wZ87iuAUpFz6"
      }
    },
    {
      "cell_type": "code",
      "source": [
        "from sklearn.model_selection import train_test_split\n",
        "\n",
        "X_train, X_test, y_train, y_test = train_test_split(X, y, test_size=0.2, random_state=42)\n",
        "\n",
        "history = model.fit(\n",
        "    X_train,\n",
        "    y_train,\n",
        "    validation_data=(X_test, y_test),\n",
        "    epochs=3,\n",
        "    batch_size=64\n",
        ")\n"
      ],
      "metadata": {
        "colab": {
          "base_uri": "https://localhost:8080/"
        },
        "id": "sHJlw7m1oOkQ",
        "outputId": "73ee9c15-827b-4f60-c59f-0c2145827037"
      },
      "execution_count": 7,
      "outputs": [
        {
          "output_type": "stream",
          "name": "stdout",
          "text": [
            "Epoch 1/3\n",
            "1241/1241 [==============================] - 185s 141ms/step - loss: 0.5706 - accuracy: 0.8077 - val_loss: 0.6032 - val_accuracy: 0.7658\n",
            "Epoch 2/3\n",
            "1241/1241 [==============================] - 169s 136ms/step - loss: 0.5588 - accuracy: 0.8238 - val_loss: 0.5493 - val_accuracy: 0.8252\n",
            "Epoch 3/3\n",
            "1241/1241 [==============================] - 168s 136ms/step - loss: 0.5552 - accuracy: 0.8124 - val_loss: 0.5611 - val_accuracy: 0.8124\n"
          ]
        }
      ]
    },
    {
      "cell_type": "markdown",
      "source": [
        "# Avaliação do Modelo\n",
        "\n",
        "Avaliação do modelo no conjunto de teste.[texto do link](https://)"
      ],
      "metadata": {
        "id": "lK6-HfAUpT-j"
      }
    },
    {
      "cell_type": "code",
      "source": [
        "import matplotlib.pyplot as plt\n",
        "\n",
        "# Plota os resultados do treinamento\n",
        "acc = history.history['accuracy']\n",
        "val_acc = history.history['val_accuracy']\n",
        "loss = history.history['loss']\n",
        "val_loss = history.history['val_loss']\n",
        "\n",
        "epochs = range(len(acc))\n",
        "\n",
        "plt.plot(epochs, acc, 'bo', label='Training acc')\n",
        "plt.plot(epochs, val_acc, 'b', label='Validation acc')\n",
        "plt.title('Training and validation accuracy')\n",
        "plt.legend()\n",
        "\n",
        "plt.figure()\n",
        "\n",
        "plt.plot(epochs, loss, 'bo', label='Training loss')\n",
        "plt.plot(epochs, val_loss, 'b', label='Validation loss')\n",
        "plt.title('Training and validation loss')\n",
        "plt.legend()\n",
        "\n",
        "plt.show()"
      ],
      "metadata": {
        "colab": {
          "base_uri": "https://localhost:8080/",
          "height": 887
        },
        "id": "JNlyOm-poIDE",
        "outputId": "3c62a6b6-7d42-443d-8ac7-fd0ba38fe20d"
      },
      "execution_count": 10,
      "outputs": [
        {
          "output_type": "display_data",
          "data": {
            "text/plain": [
              "<Figure size 640x480 with 1 Axes>"
            ],
            "image/png": "[encoded data removed]"
          },
          "metadata": {}
        },
        {
          "output_type": "display_data",
          "data": {
            "text/plain": [
              "<Figure size 640x480 with 1 Axes>"
            ],
            "image/png": "[encoded data removed]"
          },
          "metadata": {}
        }
      ]
    },
    {
      "cell_type": "markdown",
      "source": [
        "A análise das métricas `loss` e `val_loss` durante o treinamento de um modelo de aprendizado de máquina é crucial para entender o desempenho e identificar áreas para melhoria. No caso do presente exercício, as métricas indicam como o modelo está aprendendo e generalizando para dados não vistos. Vamos analisar os valores e discutir possíveis melhorias:\n",
        "\n",
        "### Análise das Métricas\n",
        "- **`loss` (Erro no Treinamento)**: [0.5706, 0.5588, 0.5551]\n",
        "- **`val_loss` (Erro na Validação)**: [0.6031, 0.5492, 0.5611]\n",
        "\n",
        "#### Observações:\n",
        "1. **Redução do Erro de Treinamento**: O `loss` está diminuindo ao longo das épocas, o que é um bom sinal. Isso indica que o modelo está aprendendo com os dados de treinamento.\n",
        "2. **Flutuação do Erro de Validação**: O `val_loss` inicialmente diminui e depois aumenta ligeiramente. Isso pode indicar um início de sobreajuste ou uma variação normal devido ao tamanho do conjunto de validação.\n",
        "\n",
        "### Estratégias de Melhoria\n",
        "\n",
        "#### 1. Ajuste dos Hiperparâmetros\n",
        "- **Número de Neurônios LSTM**: Aumentar o número de neurônios na camada LSTM. Um número maior pode capturar melhor a complexidade dos dados.\n",
        "- **Taxa de Dropout**: Ajustar as taxas de dropout. Às vezes, uma taxa mais alta ou mais baixa pode ajudar a prevenir o sobreajuste.\n",
        "- **Taxa de Aprendizagem**: Ajustar a taxa de aprendizagem do otimizador Adam. Uma taxa de aprendizagem menor pode levar a uma convergência mais estável.\n",
        "\n",
        "#### 2. Regularização\n",
        "- **Early Stopping**: Usar Early Stopping para interromper o treinamento assim que o `val_loss` começar a aumentar, evitando sobreajuste.\n",
        "- **Regularização L1/L2**: Aplicar regularização L1 ou L2 nas camadas para controlar a complexidade do modelo.\n",
        "\n",
        "#### 3. Alterações na Arquitetura\n",
        "- **Camadas Adicionais**: Experimentar adicionar mais camadas LSTM ou camadas densas.\n",
        "- **Bidirecional LSTM**: Usar LSTM bidirecional para capturar padrões em ambas as direções dos dados de texto.\n",
        "\n",
        "#### 4. Pré-processamento e Engenharia de Recursos\n",
        "- **Embeddings Pré-treinados**: Em vez de usar Embeddings aleatórios, pode ser interessante usar embeddings pré-treinados como Word2Vec ou GloVe.\n",
        "- **Limpeza de Dados**: Certificar de que os dados de texto estão limpos e pré-processados de forma adequada (remoção de stopwords, lematização, etc.).\n",
        "\n",
        "#### 5. Ajuste Fino e Experimentação\n",
        "- **Validação Cruzada**: Usar validação cruzada para obter uma estimativa mais robusta do desempenho do modelo.\n",
        "- **Experimentação Iterativa**: Modelos de aprendizado profundo muitas vezes requer experimentação iterativa. Testar diferentes combinações das estratégias acima pode ser interessante."
      ],
      "metadata": {
        "id": "wgdI4mhmv72n"
      }
    },
    {
      "cell_type": "code",
      "source": [],
      "metadata": {
        "id": "XE6R2gmNxELj"
      },
      "execution_count": null,
      "outputs": []
    }
  ]
}